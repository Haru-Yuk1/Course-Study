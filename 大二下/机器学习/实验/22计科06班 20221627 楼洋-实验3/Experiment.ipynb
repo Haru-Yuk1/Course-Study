{
 "cells": [
  {
   "cell_type": "markdown",
   "metadata": {},
   "source": [
    "BPNN模型:\n",
    "使用随机梯度下降（SGD），sigmoid激活函数，"
   ]
  },
  {
   "cell_type": "code",
   "execution_count": 292,
   "metadata": {},
   "outputs": [],
   "source": [
    "# 导入numpy库，用于数组和矩阵计算\n",
    "import numpy as np\n",
    "\n",
    "# 定义sigmoid激活函数\n",
    "def sigmoid(x):\n",
    "    # Sigmoid函数将输入映射到0-1之间\n",
    "    return 1 / (1 + np.exp(-x))\n",
    "\n",
    "# 定义sigmoid函数的导数，用于反向传播过程中的梯度计算\n",
    "def sigmoid_derivative(x):\n",
    "    # Sigmoid导数计算\n",
    "    return x * (1 - x)\n",
    "\n",
    "# 定义BP神经网络类\n",
    "class BPNN:\n",
    "    # 初始化函数\n",
    "    def __init__(self, layers, alpha=0.1,epochs=1000,random_state=None):\n",
    "        # layers: 各层节点数的列表\n",
    "        # alpha: 学习率\n",
    "        self.layers = layers\n",
    "        self.alpha = alpha\n",
    "        self.weights = []\n",
    "        self.epochs=epochs\n",
    "        self.random_state=random_state\n",
    "        self.init_weights()\n",
    "    \n",
    "        # 初始化权重矩阵\n",
    "        \n",
    "\n",
    "    def init_weights(self):\n",
    "        np.random.seed(self.random_state)\n",
    "        for i in range(1, len(self.layers)):\n",
    "            # 随机初始化权重，并设置偏置项\n",
    "            w = 2 * np.random.random((self.layers[i-1] + 1, self.layers[i] + 1)) - 1\n",
    "            self.weights.append(w)\n",
    "        # 调整输出层权重矩阵的维度\n",
    "        self.weights[-1] = self.weights[-1][:, :-1]\n",
    "    \n",
    "    def forward_prop(self,x):\n",
    "        a = [x]  # 输入层的激活值\n",
    "        # 遍历每一层，计算激活值\n",
    "        for l in range(len(self.weights)):\n",
    "            dot_value = np.dot(a[l], self.weights[l]) \n",
    "            activation=sigmoid(dot_value)\n",
    "            a.append(activation)\n",
    "        return a\n",
    "    def backward_prop(self,a,y):\n",
    "        # 计算误差\n",
    "        error = y - a[-1]\n",
    "        # 计算误差梯度\n",
    "        deltas = [error * sigmoid_derivative(a[-1])]\n",
    "\n",
    "        # 反向传播\n",
    "        for l in range(len(a) - 2, 0, -1):\n",
    "            deltas.append(deltas[-1].dot(self.weights[l].T)*sigmoid_derivative(a[l]))\n",
    "        deltas.reverse()\n",
    "\n",
    "        return deltas\n",
    "    def fit(self, X, y):\n",
    "        # 添加偏置项\n",
    "        X = np.c_[X, np.ones((X.shape[0]))]\n",
    "        # 进行epochs次迭代\n",
    "        for epoch in range(self.epochs):\n",
    "            # 随机梯度下降\n",
    "            i=np.random.randint(X.shape[0])\n",
    "            a=self.forward_prop(X[i])\n",
    "            deltas=self.backward_prop(a,y[i])\n",
    "            # 更新权重\n",
    "            for j in range(len(self.weights)):\n",
    "                layer = np.atleast_2d(a[j])\n",
    "                delta = np.atleast_2d(deltas[j])\n",
    "                self.weights[j] += self.alpha * layer.T.dot(delta)\n",
    "\n",
    "    # 预测函数\n",
    "    def predict(self, X_test):\n",
    "        predictions = []\n",
    "        for x in X_test:\n",
    "        # 添加偏置项\n",
    "            a = np.concatenate((np.array(x), np.ones(1)))\n",
    "            # 正向传播\n",
    "            for l in range(0, len(self.weights)):\n",
    "                a = sigmoid(np.dot(a, self.weights[l]))\n",
    "            pred=np.argmax(a)\n",
    "            predictions.append(pred)\n",
    "        \n",
    "        return predictions\n"
   ]
  },
  {
   "cell_type": "markdown",
   "metadata": {},
   "source": [
    "使用sklearn中的鸢尾花数据集，进行训练"
   ]
  },
  {
   "cell_type": "code",
   "execution_count": 293,
   "metadata": {},
   "outputs": [
    {
     "name": "stdout",
     "output_type": "stream",
     "text": [
      "Accuracy: 1.0\n"
     ]
    }
   ],
   "source": [
    "'''鸢尾花数据集\n",
    "    150个样本,按8:2划分为训练集和测试集\n",
    "    3个类别('Iris-setosa', 'Iris-versicolor', 'Iris-virginica'),\n",
    "    4个属性('sepal length','sepal width','petal length','petal width'),\n",
    "    构建决策树分类模型并测试准确率\n",
    "    呈现训练过程,绘制分类结果,评估模型准确性\n",
    "'''\n",
    "# 使用鸢尾花数据集进行验证\n",
    "from sklearn.datasets import load_iris\n",
    "from sklearn.model_selection import train_test_split\n",
    "from sklearn.metrics import accuracy_score\n",
    "\n",
    "# 加载数据\n",
    "iris = load_iris()\n",
    "X = iris.data\n",
    "y = iris.target\n",
    "\n",
    "# 将标签转换为独热编码\n",
    "y = np.eye(3)[y]\n",
    "\n",
    "# 划分数据集\n",
    "X_train, X_test, y_train, y_test = train_test_split(X, y, test_size=0.2,random_state=42)\n",
    "\n",
    "# 创建BPNN实例\n",
    "bpnn = BPNN([4, 6, 3],alpha=0.01,epochs=10000,random_state=42)\n",
    "\n",
    "# 训练网络\n",
    "bpnn.fit(X_train, y_train)\n",
    "\n",
    "# 预测测试集\n",
    "predictions=bpnn.predict(X_test)\n",
    "\n",
    "# 计算准确率\n",
    "accuracy = accuracy_score(np.argmax(y_test, axis=1), predictions)\n",
    "print(f'Accuracy: {accuracy}')\n"
   ]
  },
  {
   "cell_type": "markdown",
   "metadata": {},
   "source": [
    "使用UCI数据集中的葡萄酒质量数据集,进行训练"
   ]
  },
  {
   "cell_type": "code",
   "execution_count": 294,
   "metadata": {},
   "outputs": [
    {
     "name": "stdout",
     "output_type": "stream",
     "text": [
      "Accuracy: 0.46\n"
     ]
    }
   ],
   "source": [
    "from ucimlrepo import fetch_ucirepo \n",
    "  \n",
    "# fetch dataset \n",
    "wine_quality = fetch_ucirepo(id=186) \n",
    "  \n",
    "# data (as pandas dataframes) \n",
    "X = wine_quality.data.features \n",
    "y = wine_quality.data.targets \n",
    "\n",
    "\n",
    "X=np.array(X)\n",
    "y=np.array(y)\n",
    "y=y.flatten()\n",
    "\n",
    "y=np.eye(10)[y]\n",
    "# 划分数据集\n",
    "X_train, X_test, y_train, y_test = train_test_split(X, y, test_size=0.2,random_state=42)\n",
    "\n",
    "# 创建BPNN实例\n",
    "bpnn = BPNN([11,25,10],alpha=0.01,epochs=10000,random_state=42)\n",
    "\n",
    "# 训练网络\n",
    "bpnn.fit(X_train, y_train)\n",
    "\n",
    "# 预测测试集\n",
    "predictions=bpnn.predict(X_test)\n",
    "# 计算准确率\n",
    "\n",
    "accuracy = accuracy_score(np.argmax(y_test, axis=1), predictions)\n",
    "print(f'Accuracy: {accuracy}')"
   ]
  }
 ],
 "metadata": {
  "kernelspec": {
   "display_name": "Python 3",
   "language": "python",
   "name": "python3"
  },
  "language_info": {
   "codemirror_mode": {
    "name": "ipython",
    "version": 3
   },
   "file_extension": ".py",
   "mimetype": "text/x-python",
   "name": "python",
   "nbconvert_exporter": "python",
   "pygments_lexer": "ipython3",
   "version": "3.11.1"
  }
 },
 "nbformat": 4,
 "nbformat_minor": 2
}
